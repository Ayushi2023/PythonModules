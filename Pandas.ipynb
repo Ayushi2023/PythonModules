{
 "cells": [
  {
   "cell_type": "markdown",
   "id": "5201f629",
   "metadata": {},
   "source": [
    "# Use the given file named cricket.csv and perform the following operations:"
   ]
  },
  {
   "cell_type": "markdown",
   "id": "a6c3dfe5",
   "metadata": {},
   "source": [
    "## 1. Read the file in DataFrame"
   ]
  },
  {
   "cell_type": "code",
   "execution_count": 1,
   "id": "dd97b075",
   "metadata": {},
   "outputs": [
    {
     "data": {
      "text/html": [
       "<div>\n",
       "<style scoped>\n",
       "    .dataframe tbody tr th:only-of-type {\n",
       "        vertical-align: middle;\n",
       "    }\n",
       "\n",
       "    .dataframe tbody tr th {\n",
       "        vertical-align: top;\n",
       "    }\n",
       "\n",
       "    .dataframe thead th {\n",
       "        text-align: right;\n",
       "    }\n",
       "</style>\n",
       "<table border=\"1\" class=\"dataframe\">\n",
       "  <thead>\n",
       "    <tr style=\"text-align: right;\">\n",
       "      <th></th>\n",
       "      <th>sr.no</th>\n",
       "      <th>name</th>\n",
       "      <th>matches</th>\n",
       "      <th>runs</th>\n",
       "      <th>catches</th>\n",
       "      <th>wickets</th>\n",
       "      <th>stumpings</th>\n",
       "    </tr>\n",
       "  </thead>\n",
       "  <tbody>\n",
       "    <tr>\n",
       "      <th>0</th>\n",
       "      <td>1</td>\n",
       "      <td>Anil Dalpat</td>\n",
       "      <td>122</td>\n",
       "      <td>6755</td>\n",
       "      <td>56</td>\n",
       "      <td>12</td>\n",
       "      <td>0</td>\n",
       "    </tr>\n",
       "    <tr>\n",
       "      <th>1</th>\n",
       "      <td>2</td>\n",
       "      <td>Rohan Kanhay</td>\n",
       "      <td>144</td>\n",
       "      <td>1256</td>\n",
       "      <td>76</td>\n",
       "      <td>178</td>\n",
       "      <td>0</td>\n",
       "    </tr>\n",
       "    <tr>\n",
       "      <th>2</th>\n",
       "      <td>3</td>\n",
       "      <td>Avdhoot Dighe</td>\n",
       "      <td>265</td>\n",
       "      <td>8954</td>\n",
       "      <td>120</td>\n",
       "      <td>0</td>\n",
       "      <td>0</td>\n",
       "    </tr>\n",
       "    <tr>\n",
       "      <th>3</th>\n",
       "      <td>4</td>\n",
       "      <td>Bahubali</td>\n",
       "      <td>10</td>\n",
       "      <td>756</td>\n",
       "      <td>6</td>\n",
       "      <td>11</td>\n",
       "      <td>3</td>\n",
       "    </tr>\n",
       "    <tr>\n",
       "      <th>4</th>\n",
       "      <td>5</td>\n",
       "      <td>Leeladhar</td>\n",
       "      <td>234</td>\n",
       "      <td>2866</td>\n",
       "      <td>105</td>\n",
       "      <td>376</td>\n",
       "      <td>0</td>\n",
       "    </tr>\n",
       "    <tr>\n",
       "      <th>5</th>\n",
       "      <td>6</td>\n",
       "      <td>Pradyumna</td>\n",
       "      <td>177</td>\n",
       "      <td>5877</td>\n",
       "      <td>47</td>\n",
       "      <td>122</td>\n",
       "      <td>0</td>\n",
       "    </tr>\n",
       "    <tr>\n",
       "      <th>6</th>\n",
       "      <td>7</td>\n",
       "      <td>Dinesh Roy</td>\n",
       "      <td>211</td>\n",
       "      <td>8537</td>\n",
       "      <td>112</td>\n",
       "      <td>16</td>\n",
       "      <td>0</td>\n",
       "    </tr>\n",
       "    <tr>\n",
       "      <th>7</th>\n",
       "      <td>8</td>\n",
       "      <td>Parmeshwar</td>\n",
       "      <td>245</td>\n",
       "      <td>9466</td>\n",
       "      <td>53</td>\n",
       "      <td>0</td>\n",
       "      <td>0</td>\n",
       "    </tr>\n",
       "    <tr>\n",
       "      <th>8</th>\n",
       "      <td>9</td>\n",
       "      <td>Ali Durrani</td>\n",
       "      <td>55</td>\n",
       "      <td>2756</td>\n",
       "      <td>12</td>\n",
       "      <td>26</td>\n",
       "      <td>0</td>\n",
       "    </tr>\n",
       "    <tr>\n",
       "      <th>9</th>\n",
       "      <td>10</td>\n",
       "      <td>Litesh Singh</td>\n",
       "      <td>89</td>\n",
       "      <td>1099</td>\n",
       "      <td>46</td>\n",
       "      <td>49</td>\n",
       "      <td>0</td>\n",
       "    </tr>\n",
       "  </tbody>\n",
       "</table>\n",
       "</div>"
      ],
      "text/plain": [
       "   sr.no           name  matches  runs  catches  wickets  stumpings\n",
       "0      1    Anil Dalpat      122  6755       56       12          0\n",
       "1      2   Rohan Kanhay      144  1256       76      178          0\n",
       "2      3  Avdhoot Dighe      265  8954      120        0          0\n",
       "3      4       Bahubali       10   756        6       11          3\n",
       "4      5      Leeladhar      234  2866      105      376          0\n",
       "5      6      Pradyumna      177  5877       47      122          0\n",
       "6      7     Dinesh Roy      211  8537      112       16          0\n",
       "7      8     Parmeshwar      245  9466       53        0          0\n",
       "8      9    Ali Durrani       55  2756       12       26          0\n",
       "9     10   Litesh Singh       89  1099       46       49          0"
      ]
     },
     "execution_count": 1,
     "metadata": {},
     "output_type": "execute_result"
    }
   ],
   "source": [
    "import pandas as pd\n",
    "data = pd.read_csv(\"cricket.csv\")\n",
    "data"
   ]
  },
  {
   "cell_type": "markdown",
   "id": "5221dd0e",
   "metadata": {},
   "source": [
    "## 2. List the name of cricketer and their respective runs"
   ]
  },
  {
   "cell_type": "code",
   "execution_count": 6,
   "id": "1f03beaf",
   "metadata": {},
   "outputs": [
    {
     "data": {
      "text/html": [
       "<div>\n",
       "<style scoped>\n",
       "    .dataframe tbody tr th:only-of-type {\n",
       "        vertical-align: middle;\n",
       "    }\n",
       "\n",
       "    .dataframe tbody tr th {\n",
       "        vertical-align: top;\n",
       "    }\n",
       "\n",
       "    .dataframe thead th {\n",
       "        text-align: right;\n",
       "    }\n",
       "</style>\n",
       "<table border=\"1\" class=\"dataframe\">\n",
       "  <thead>\n",
       "    <tr style=\"text-align: right;\">\n",
       "      <th></th>\n",
       "      <th>name</th>\n",
       "      <th>runs</th>\n",
       "    </tr>\n",
       "  </thead>\n",
       "  <tbody>\n",
       "    <tr>\n",
       "      <th>0</th>\n",
       "      <td>Anil Dalpat</td>\n",
       "      <td>6755</td>\n",
       "    </tr>\n",
       "    <tr>\n",
       "      <th>1</th>\n",
       "      <td>Rohan Kanhay</td>\n",
       "      <td>1256</td>\n",
       "    </tr>\n",
       "    <tr>\n",
       "      <th>2</th>\n",
       "      <td>Avdhoot Dighe</td>\n",
       "      <td>8954</td>\n",
       "    </tr>\n",
       "    <tr>\n",
       "      <th>3</th>\n",
       "      <td>Bahubali</td>\n",
       "      <td>756</td>\n",
       "    </tr>\n",
       "    <tr>\n",
       "      <th>4</th>\n",
       "      <td>Leeladhar</td>\n",
       "      <td>2866</td>\n",
       "    </tr>\n",
       "    <tr>\n",
       "      <th>5</th>\n",
       "      <td>Pradyumna</td>\n",
       "      <td>5877</td>\n",
       "    </tr>\n",
       "    <tr>\n",
       "      <th>6</th>\n",
       "      <td>Dinesh Roy</td>\n",
       "      <td>8537</td>\n",
       "    </tr>\n",
       "    <tr>\n",
       "      <th>7</th>\n",
       "      <td>Parmeshwar</td>\n",
       "      <td>9466</td>\n",
       "    </tr>\n",
       "    <tr>\n",
       "      <th>8</th>\n",
       "      <td>Ali Durrani</td>\n",
       "      <td>2756</td>\n",
       "    </tr>\n",
       "    <tr>\n",
       "      <th>9</th>\n",
       "      <td>Litesh Singh</td>\n",
       "      <td>1099</td>\n",
       "    </tr>\n",
       "  </tbody>\n",
       "</table>\n",
       "</div>"
      ],
      "text/plain": [
       "            name  runs\n",
       "0    Anil Dalpat  6755\n",
       "1   Rohan Kanhay  1256\n",
       "2  Avdhoot Dighe  8954\n",
       "3       Bahubali   756\n",
       "4      Leeladhar  2866\n",
       "5      Pradyumna  5877\n",
       "6     Dinesh Roy  8537\n",
       "7     Parmeshwar  9466\n",
       "8    Ali Durrani  2756\n",
       "9   Litesh Singh  1099"
      ]
     },
     "execution_count": 6,
     "metadata": {},
     "output_type": "execute_result"
    }
   ],
   "source": [
    "data.loc[:11,[\"name\",\"runs\"]]"
   ]
  },
  {
   "cell_type": "markdown",
   "id": "a838c2c8",
   "metadata": {},
   "source": [
    "## 3. Find total wickets taken by them"
   ]
  },
  {
   "cell_type": "code",
   "execution_count": 8,
   "id": "a4fd305f",
   "metadata": {},
   "outputs": [
    {
     "data": {
      "text/plain": [
       "790"
      ]
     },
     "execution_count": 8,
     "metadata": {},
     "output_type": "execute_result"
    }
   ],
   "source": [
    "sum(data.iloc[:11,5])"
   ]
  },
  {
   "cell_type": "markdown",
   "id": "18f59643",
   "metadata": {},
   "source": [
    "## 4. Find average of catches taken"
   ]
  },
  {
   "cell_type": "code",
   "execution_count": 9,
   "id": "2b0dc949",
   "metadata": {},
   "outputs": [
    {
     "data": {
      "text/plain": [
       "63.3"
      ]
     },
     "execution_count": 9,
     "metadata": {},
     "output_type": "execute_result"
    }
   ],
   "source": [
    "data.iloc[:11,4].mean()"
   ]
  },
  {
   "cell_type": "markdown",
   "id": "24afe3b6",
   "metadata": {},
   "source": [
    "## 5. Calculate strike rates of all the batsmen"
   ]
  },
  {
   "cell_type": "code",
   "execution_count": 10,
   "id": "a2dc6504",
   "metadata": {},
   "outputs": [
    {
     "data": {
      "text/plain": [
       "0    55.368852\n",
       "1     8.722222\n",
       "2    33.788679\n",
       "3    75.600000\n",
       "4    12.247863\n",
       "5    33.203390\n",
       "6    40.459716\n",
       "7    38.636735\n",
       "8    50.109091\n",
       "9    12.348315\n",
       "dtype: float64"
      ]
     },
     "execution_count": 10,
     "metadata": {},
     "output_type": "execute_result"
    }
   ],
   "source": [
    "strike_rate = data.runs / data.matches\n",
    "strike_rate"
   ]
  },
  {
   "cell_type": "markdown",
   "id": "4ce92e65",
   "metadata": {},
   "source": [
    "## 6. Print the names of person who has strike rate greater than 50"
   ]
  },
  {
   "cell_type": "code",
   "execution_count": 11,
   "id": "a5554abb",
   "metadata": {},
   "outputs": [
    {
     "data": {
      "text/html": [
       "<div>\n",
       "<style scoped>\n",
       "    .dataframe tbody tr th:only-of-type {\n",
       "        vertical-align: middle;\n",
       "    }\n",
       "\n",
       "    .dataframe tbody tr th {\n",
       "        vertical-align: top;\n",
       "    }\n",
       "\n",
       "    .dataframe thead th {\n",
       "        text-align: right;\n",
       "    }\n",
       "</style>\n",
       "<table border=\"1\" class=\"dataframe\">\n",
       "  <thead>\n",
       "    <tr style=\"text-align: right;\">\n",
       "      <th></th>\n",
       "      <th>name</th>\n",
       "    </tr>\n",
       "  </thead>\n",
       "  <tbody>\n",
       "    <tr>\n",
       "      <th>0</th>\n",
       "      <td>Anil Dalpat</td>\n",
       "    </tr>\n",
       "    <tr>\n",
       "      <th>3</th>\n",
       "      <td>Bahubali</td>\n",
       "    </tr>\n",
       "    <tr>\n",
       "      <th>8</th>\n",
       "      <td>Ali Durrani</td>\n",
       "    </tr>\n",
       "  </tbody>\n",
       "</table>\n",
       "</div>"
      ],
      "text/plain": [
       "          name\n",
       "0  Anil Dalpat\n",
       "3     Bahubali\n",
       "8  Ali Durrani"
      ]
     },
     "execution_count": 11,
     "metadata": {},
     "output_type": "execute_result"
    }
   ],
   "source": [
    "data.loc[strike_rate > 50, [\"name\"]]"
   ]
  },
  {
   "cell_type": "markdown",
   "id": "f9b88451",
   "metadata": {},
   "source": [
    "## 7. Find the name of wicketkeeper"
   ]
  },
  {
   "cell_type": "code",
   "execution_count": 15,
   "id": "982fe320",
   "metadata": {},
   "outputs": [
    {
     "data": {
      "text/html": [
       "<div>\n",
       "<style scoped>\n",
       "    .dataframe tbody tr th:only-of-type {\n",
       "        vertical-align: middle;\n",
       "    }\n",
       "\n",
       "    .dataframe tbody tr th {\n",
       "        vertical-align: top;\n",
       "    }\n",
       "\n",
       "    .dataframe thead th {\n",
       "        text-align: right;\n",
       "    }\n",
       "</style>\n",
       "<table border=\"1\" class=\"dataframe\">\n",
       "  <thead>\n",
       "    <tr style=\"text-align: right;\">\n",
       "      <th></th>\n",
       "      <th>name</th>\n",
       "    </tr>\n",
       "  </thead>\n",
       "  <tbody>\n",
       "    <tr>\n",
       "      <th>3</th>\n",
       "      <td>Bahubali</td>\n",
       "    </tr>\n",
       "  </tbody>\n",
       "</table>\n",
       "</div>"
      ],
      "text/plain": [
       "       name\n",
       "3  Bahubali"
      ]
     },
     "execution_count": 15,
     "metadata": {},
     "output_type": "execute_result"
    }
   ],
   "source": [
    "data.loc[data.stumpings > 0, [\"name\"]]"
   ]
  },
  {
   "cell_type": "markdown",
   "id": "86bc3473",
   "metadata": {},
   "source": [
    "## 8. print the name of bowler who played highest number of matches"
   ]
  },
  {
   "cell_type": "code",
   "execution_count": 19,
   "id": "39381276",
   "metadata": {},
   "outputs": [
    {
     "data": {
      "text/html": [
       "<div>\n",
       "<style scoped>\n",
       "    .dataframe tbody tr th:only-of-type {\n",
       "        vertical-align: middle;\n",
       "    }\n",
       "\n",
       "    .dataframe tbody tr th {\n",
       "        vertical-align: top;\n",
       "    }\n",
       "\n",
       "    .dataframe thead th {\n",
       "        text-align: right;\n",
       "    }\n",
       "</style>\n",
       "<table border=\"1\" class=\"dataframe\">\n",
       "  <thead>\n",
       "    <tr style=\"text-align: right;\">\n",
       "      <th></th>\n",
       "      <th>name</th>\n",
       "    </tr>\n",
       "  </thead>\n",
       "  <tbody>\n",
       "    <tr>\n",
       "      <th>4</th>\n",
       "      <td>Leeladhar</td>\n",
       "    </tr>\n",
       "  </tbody>\n",
       "</table>\n",
       "</div>"
      ],
      "text/plain": [
       "        name\n",
       "4  Leeladhar"
      ]
     },
     "execution_count": 19,
     "metadata": {},
     "output_type": "execute_result"
    }
   ],
   "source": [
    "bowlers = data.loc[data.wickets > 0, [\"name\", \"runs\", \"matches\", \"wickets\"]]\n",
    "bowlers.loc[bowlers.matches == bowlers.matches.max(), [\"name\"]]"
   ]
  },
  {
   "cell_type": "markdown",
   "id": "13a01ecc",
   "metadata": {},
   "source": [
    "## 9. Find name of the bowler with least bowling average."
   ]
  },
  {
   "cell_type": "code",
   "execution_count": 21,
   "id": "a75c09a1",
   "metadata": {},
   "outputs": [
    {
     "data": {
      "text/html": [
       "<div>\n",
       "<style scoped>\n",
       "    .dataframe tbody tr th:only-of-type {\n",
       "        vertical-align: middle;\n",
       "    }\n",
       "\n",
       "    .dataframe tbody tr th {\n",
       "        vertical-align: top;\n",
       "    }\n",
       "\n",
       "    .dataframe thead th {\n",
       "        text-align: right;\n",
       "    }\n",
       "</style>\n",
       "<table border=\"1\" class=\"dataframe\">\n",
       "  <thead>\n",
       "    <tr style=\"text-align: right;\">\n",
       "      <th></th>\n",
       "      <th>name</th>\n",
       "    </tr>\n",
       "  </thead>\n",
       "  <tbody>\n",
       "    <tr>\n",
       "      <th>1</th>\n",
       "      <td>Rohan Kanhay</td>\n",
       "    </tr>\n",
       "  </tbody>\n",
       "</table>\n",
       "</div>"
      ],
      "text/plain": [
       "           name\n",
       "1  Rohan Kanhay"
      ]
     },
     "execution_count": 21,
     "metadata": {},
     "output_type": "execute_result"
    }
   ],
   "source": [
    "avg = bowlers.runs / bowlers.wickets\n",
    "bowlers.loc[avg == avg.min() ,[\"name\"]]"
   ]
  },
  {
   "cell_type": "markdown",
   "id": "9ecb1573",
   "metadata": {},
   "source": [
    "## 10 . Print information about all players whose catches per match ratio is greater than 0.5 store it in a csv file"
   ]
  },
  {
   "cell_type": "code",
   "execution_count": 24,
   "id": "b61eef0c",
   "metadata": {},
   "outputs": [],
   "source": [
    "temp = data.loc[(data.catches / data.matches) > 0.5 ]\n",
    "temp.to_csv(\"players.csv\")"
   ]
  },
  {
   "cell_type": "markdown",
   "id": "04b1df91",
   "metadata": {},
   "source": [
    "## 11. Draw the chart of matches against number of runs scored."
   ]
  },
  {
   "cell_type": "code",
   "execution_count": 25,
   "id": "eaa303f7",
   "metadata": {},
   "outputs": [
    {
     "data": {
      "image/png": "[encoded data removed]",
      "text/plain": [
       "<Figure size 432x288 with 1 Axes>"
      ]
     },
     "metadata": {
      "needs_background": "light"
     },
     "output_type": "display_data"
    }
   ],
   "source": [
    "import numpy as np\n",
    "import matplotlib.pyplot as plt\n",
    "\n",
    "x = np.array(cric.matches)\n",
    "y = np.array(cric.runs)\n",
    "\n",
    "plt.plot(x,y)\n",
    "plt.xlabel(\"Matches\")\n",
    "plt.ylabel(\"Runs\")\n",
    "\n",
    "plt.show()"
   ]
  },
  {
   "cell_type": "markdown",
   "id": "7da2b0ab",
   "metadata": {},
   "source": [
    "## 12. Sort and print information about players by ascending order of runs"
   ]
  },
  {
   "cell_type": "code",
   "execution_count": 26,
   "id": "02083ce6",
   "metadata": {},
   "outputs": [
    {
     "data": {
      "text/html": [
       "<div>\n",
       "<style scoped>\n",
       "    .dataframe tbody tr th:only-of-type {\n",
       "        vertical-align: middle;\n",
       "    }\n",
       "\n",
       "    .dataframe tbody tr th {\n",
       "        vertical-align: top;\n",
       "    }\n",
       "\n",
       "    .dataframe thead th {\n",
       "        text-align: right;\n",
       "    }\n",
       "</style>\n",
       "<table border=\"1\" class=\"dataframe\">\n",
       "  <thead>\n",
       "    <tr style=\"text-align: right;\">\n",
       "      <th></th>\n",
       "      <th>sr.no</th>\n",
       "      <th>name</th>\n",
       "      <th>matches</th>\n",
       "      <th>runs</th>\n",
       "      <th>catches</th>\n",
       "      <th>wickets</th>\n",
       "      <th>stumpings</th>\n",
       "    </tr>\n",
       "  </thead>\n",
       "  <tbody>\n",
       "    <tr>\n",
       "      <th>7</th>\n",
       "      <td>8</td>\n",
       "      <td>Parmeshwar</td>\n",
       "      <td>245</td>\n",
       "      <td>9466</td>\n",
       "      <td>53</td>\n",
       "      <td>0</td>\n",
       "      <td>0</td>\n",
       "    </tr>\n",
       "    <tr>\n",
       "      <th>2</th>\n",
       "      <td>3</td>\n",
       "      <td>Avdhoot Dighe</td>\n",
       "      <td>265</td>\n",
       "      <td>8954</td>\n",
       "      <td>120</td>\n",
       "      <td>0</td>\n",
       "      <td>0</td>\n",
       "    </tr>\n",
       "    <tr>\n",
       "      <th>6</th>\n",
       "      <td>7</td>\n",
       "      <td>Dinesh Roy</td>\n",
       "      <td>211</td>\n",
       "      <td>8537</td>\n",
       "      <td>112</td>\n",
       "      <td>16</td>\n",
       "      <td>0</td>\n",
       "    </tr>\n",
       "    <tr>\n",
       "      <th>0</th>\n",
       "      <td>1</td>\n",
       "      <td>Anil Dalpat</td>\n",
       "      <td>122</td>\n",
       "      <td>6755</td>\n",
       "      <td>56</td>\n",
       "      <td>12</td>\n",
       "      <td>0</td>\n",
       "    </tr>\n",
       "    <tr>\n",
       "      <th>5</th>\n",
       "      <td>6</td>\n",
       "      <td>Pradyumna</td>\n",
       "      <td>177</td>\n",
       "      <td>5877</td>\n",
       "      <td>47</td>\n",
       "      <td>122</td>\n",
       "      <td>0</td>\n",
       "    </tr>\n",
       "    <tr>\n",
       "      <th>4</th>\n",
       "      <td>5</td>\n",
       "      <td>Leeladhar</td>\n",
       "      <td>234</td>\n",
       "      <td>2866</td>\n",
       "      <td>105</td>\n",
       "      <td>376</td>\n",
       "      <td>0</td>\n",
       "    </tr>\n",
       "    <tr>\n",
       "      <th>8</th>\n",
       "      <td>9</td>\n",
       "      <td>Ali Durrani</td>\n",
       "      <td>55</td>\n",
       "      <td>2756</td>\n",
       "      <td>12</td>\n",
       "      <td>26</td>\n",
       "      <td>0</td>\n",
       "    </tr>\n",
       "    <tr>\n",
       "      <th>1</th>\n",
       "      <td>2</td>\n",
       "      <td>Rohan Kanhay</td>\n",
       "      <td>144</td>\n",
       "      <td>1256</td>\n",
       "      <td>76</td>\n",
       "      <td>178</td>\n",
       "      <td>0</td>\n",
       "    </tr>\n",
       "    <tr>\n",
       "      <th>9</th>\n",
       "      <td>10</td>\n",
       "      <td>Litesh Singh</td>\n",
       "      <td>89</td>\n",
       "      <td>1099</td>\n",
       "      <td>46</td>\n",
       "      <td>49</td>\n",
       "      <td>0</td>\n",
       "    </tr>\n",
       "    <tr>\n",
       "      <th>3</th>\n",
       "      <td>4</td>\n",
       "      <td>Bahubali</td>\n",
       "      <td>10</td>\n",
       "      <td>756</td>\n",
       "      <td>6</td>\n",
       "      <td>11</td>\n",
       "      <td>3</td>\n",
       "    </tr>\n",
       "  </tbody>\n",
       "</table>\n",
       "</div>"
      ],
      "text/plain": [
       "   sr.no           name  matches  runs  catches  wickets  stumpings\n",
       "7      8     Parmeshwar      245  9466       53        0          0\n",
       "2      3  Avdhoot Dighe      265  8954      120        0          0\n",
       "6      7     Dinesh Roy      211  8537      112       16          0\n",
       "0      1    Anil Dalpat      122  6755       56       12          0\n",
       "5      6      Pradyumna      177  5877       47      122          0\n",
       "4      5      Leeladhar      234  2866      105      376          0\n",
       "8      9    Ali Durrani       55  2756       12       26          0\n",
       "1      2   Rohan Kanhay      144  1256       76      178          0\n",
       "9     10   Litesh Singh       89  1099       46       49          0\n",
       "3      4       Bahubali       10   756        6       11          3"
      ]
     },
     "execution_count": 26,
     "metadata": {},
     "output_type": "execute_result"
    }
   ],
   "source": [
    "cric.sort_values(by = \"runs\", ascending = False)"
   ]
  },
  {
   "cell_type": "markdown",
   "id": "7bd3405a",
   "metadata": {},
   "source": [
    "## 13. print the names of players whose wickets are greater than matches"
   ]
  },
  {
   "cell_type": "code",
   "execution_count": 27,
   "id": "39a3c203",
   "metadata": {},
   "outputs": [
    {
     "data": {
      "text/html": [
       "<div>\n",
       "<style scoped>\n",
       "    .dataframe tbody tr th:only-of-type {\n",
       "        vertical-align: middle;\n",
       "    }\n",
       "\n",
       "    .dataframe tbody tr th {\n",
       "        vertical-align: top;\n",
       "    }\n",
       "\n",
       "    .dataframe thead th {\n",
       "        text-align: right;\n",
       "    }\n",
       "</style>\n",
       "<table border=\"1\" class=\"dataframe\">\n",
       "  <thead>\n",
       "    <tr style=\"text-align: right;\">\n",
       "      <th></th>\n",
       "      <th>name</th>\n",
       "    </tr>\n",
       "  </thead>\n",
       "  <tbody>\n",
       "    <tr>\n",
       "      <th>1</th>\n",
       "      <td>Rohan Kanhay</td>\n",
       "    </tr>\n",
       "    <tr>\n",
       "      <th>3</th>\n",
       "      <td>Bahubali</td>\n",
       "    </tr>\n",
       "    <tr>\n",
       "      <th>4</th>\n",
       "      <td>Leeladhar</td>\n",
       "    </tr>\n",
       "  </tbody>\n",
       "</table>\n",
       "</div>"
      ],
      "text/plain": [
       "           name\n",
       "1  Rohan Kanhay\n",
       "3      Bahubali\n",
       "4     Leeladhar"
      ]
     },
     "execution_count": 27,
     "metadata": {},
     "output_type": "execute_result"
    }
   ],
   "source": [
    "cric.loc[cric.wickets > cric.matches ,[\"name\"]]"
   ]
  }
 ],
 "metadata": {
  "kernelspec": {
   "display_name": "Python 3 (ipykernel)",
   "language": "python",
   "name": "python3"
  },
  "language_info": {
   "codemirror_mode": {
    "name": "ipython",
    "version": 3
   },
   "file_extension": ".py",
   "mimetype": "text/x-python",
   "name": "python",
   "nbconvert_exporter": "python",
   "pygments_lexer": "ipython3",
   "version": "3.9.12"
  }
 },
 "nbformat": 4,
 "nbformat_minor": 5
}
